{
  "nbformat": 4,
  "nbformat_minor": 0,
  "metadata": {
    "colab": {
      "name": "Untitled0.ipynb",
      "provenance": [],
      "authorship_tag": "ABX9TyPL/V9ZTI6qkrsOnxG/DLuR",
      "include_colab_link": true
    },
    "kernelspec": {
      "name": "python3",
      "display_name": "Python 3"
    },
    "language_info": {
      "name": "python"
    }
  },
  "cells": [
    {
      "cell_type": "markdown",
      "metadata": {
        "id": "view-in-github",
        "colab_type": "text"
      },
      "source": [
        "<a href=\"https://colab.research.google.com/github/20pa1a5417/BasicML/blob/main/project1.ipynb\" target=\"_parent\"><img src=\"https://colab.research.google.com/assets/colab-badge.svg\" alt=\"Open In Colab\"/></a>"
      ]
    },
    {
      "cell_type": "code",
      "metadata": {
        "colab": {
          "base_uri": "https://localhost:8080/"
        },
        "id": "oj58KfAn587r",
        "outputId": "48152b12-ecee-4a1b-d297-67d451ecce9f"
      },
      "source": [
        "print(\"Hello world\")"
      ],
      "execution_count": null,
      "outputs": [
        {
          "output_type": "stream",
          "text": [
            "Hello world\n"
          ],
          "name": "stdout"
        }
      ]
    },
    {
      "cell_type": "code",
      "metadata": {
        "colab": {
          "base_uri": "https://localhost:8080/"
        },
        "id": "m1cbHFkj7-H9",
        "outputId": "b66f0239-d4ce-4993-ed6c-c7c6efb5d88f"
      },
      "source": [
        "#how to print the product of 3 numbers\n",
        "a=int(input())\n",
        " \n",
        "b=int(input())\n",
        " \n",
        "c=int(input())\n",
        " \n",
        "if c==7:\n",
        " \n",
        "    print(\"-1\")\n",
        " \n",
        "elif b==7:\n",
        " \n",
        "    print(c)\n",
        " \n",
        "elif a==7:\n",
        " \n",
        "    print(b*c)\n",
        " \n",
        "else:\n",
        " \n",
        "    print(a*b*c)"
      ],
      "execution_count": null,
      "outputs": [
        {
          "output_type": "stream",
          "text": [
            "2\n",
            "3\n",
            "4\n",
            "24\n"
          ],
          "name": "stdout"
        }
      ]
    },
    {
      "cell_type": "code",
      "metadata": {
        "colab": {
          "base_uri": "https://localhost:8080/"
        },
        "id": "jFHgwx2I-Iqt",
        "outputId": "04e88d20-d6f6-4951-a858-70c6d56111a1"
      },
      "source": [
        " \n",
        "n=int(input())\n",
        "t=n\n",
        "s=0\n",
        "while(n>0):\n",
        "    r=n%10\n",
        "    s=s*10+r\n",
        "    n=n//10\n",
        "if (t==s):\n",
        "    print(\"Palindrome\")\n",
        "else:\n",
        "    print(\"Not a palindrome \")"
      ],
      "execution_count": null,
      "outputs": [
        {
          "output_type": "stream",
          "text": [
            "12321\n",
            "Palindrome\n"
          ],
          "name": "stdout"
        }
      ]
    }
  ]
}